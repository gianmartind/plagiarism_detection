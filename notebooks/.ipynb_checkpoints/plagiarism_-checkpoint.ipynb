{
 "cells": [
  {
   "cell_type": "markdown",
   "metadata": {},
   "source": [
    "# PLAGIARISM_DETECTION\n",
    "\n",
    "## author: GMD"
   ]
  },
  {
   "cell_type": "markdown",
   "metadata": {},
   "source": [
    "### Import Library"
   ]
  },
  {
   "cell_type": "code",
   "execution_count": 6,
   "metadata": {},
   "outputs": [],
   "source": [
    "import pandas as pd\n",
    "import re\n",
    "import os\n",
    "import glob\n",
    "import operator\n",
    "import math"
   ]
  },
  {
   "cell_type": "markdown",
   "metadata": {},
   "source": [
    "### Text Cleaner"
   ]
  },
  {
   "cell_type": "code",
   "execution_count": 2,
   "metadata": {},
   "outputs": [],
   "source": [
    "def cleaner(text):\n",
    "    #remove newline\n",
    "    text = text.replace('\\n', ' ')\n",
    "    #remove multiple spaces\n",
    "    text = re.sub(' +', ' ', text)\n",
    "    #remove special characters and numbers\n",
    "    text = re.sub('[^A-Za-z ]', '', text)\n",
    "    \n",
    "    return text.lower()"
   ]
  },
  {
   "cell_type": "markdown",
   "metadata": {},
   "source": [
    "### Import dataset"
   ]
  },
  {
   "cell_type": "code",
   "execution_count": 3,
   "metadata": {},
   "outputs": [],
   "source": [
    "documents = list()\n",
    "#Import all .txt file in dataset folder\n",
    "for filename in glob.glob(os.path.join('../dataset/', '*.txt')):\n",
    "   with open(os.path.join(os.getcwd(), filename), 'r', encoding='mbcs') as f: # open in readonly mode\n",
    "      documents.append(cleaner(f.read()))"
   ]
  },
  {
   "cell_type": "markdown",
   "metadata": {},
   "source": [
    "### Hitung semua kata yang muncul"
   ]
  },
  {
   "cell_type": "code",
   "execution_count": 4,
   "metadata": {},
   "outputs": [],
   "source": [
    "def computeAllWords(docs):\n",
    "    all_words = set()\n",
    "    for text in docs:\n",
    "        for word in text.split():\n",
    "            all_words.add(word)\n",
    "    return all_words"
   ]
  },
  {
   "cell_type": "markdown",
   "metadata": {},
   "source": [
    "### Hitung IDF"
   ]
  },
  {
   "cell_type": "code",
   "execution_count": 7,
   "metadata": {},
   "outputs": [],
   "source": [
    "def computeIDF(allWords):\n",
    "    N = len(documents)\n",
    "    words_idf = dict()\n",
    "    for word in allWords:\n",
    "        words_idf[word] = 0\n",
    "\n",
    "    for word in allWords:\n",
    "        #Hitung nx\n",
    "        nx = 0\n",
    "        for doc in documents:\n",
    "            if word in doc:\n",
    "                nx += 1\n",
    "        words_idf[word] = math.log((N + 1)/nx, 2)\n",
    "\n",
    "    return words_idf"
   ]
  },
  {
   "cell_type": "code",
   "execution_count": 10,
   "metadata": {},
   "outputs": [],
   "source": [
    "allWords = computeAllWords(documents)\n",
    "allWords = computeIDF(allWords)"
   ]
  },
  {
   "cell_type": "code",
   "execution_count": null,
   "metadata": {},
   "outputs": [],
   "source": []
  }
 ],
 "metadata": {
  "kernelspec": {
   "display_name": "Python 3",
   "language": "python",
   "name": "python3"
  },
  "language_info": {
   "codemirror_mode": {
    "name": "ipython",
    "version": 3
   },
   "file_extension": ".py",
   "mimetype": "text/x-python",
   "name": "python",
   "nbconvert_exporter": "python",
   "pygments_lexer": "ipython3",
   "version": "3.8.5"
  }
 },
 "nbformat": 4,
 "nbformat_minor": 4
}
